{
 "cells": [
  {
   "cell_type": "markdown",
   "id": "38a92ba8",
   "metadata": {},
   "source": [
    "# HTML Tutorial for Beginners"
   ]
  },
  {
   "cell_type": "markdown",
   "id": "c27367ad",
   "metadata": {},
   "source": [
    "## Introduction\n",
    "This tutorial will guide you through the basics of HTML, helping you understand how web pages are structured and created."
   ]
  },
  {
   "cell_type": "markdown",
   "id": "cf1631a7",
   "metadata": {},
   "source": [
    "## What is HTML?\n",
    "HTML (Hyper Text Markup Language) is the cornerstone of web development. It's not a programming language, but a markup language that tells web browsers how to structure the web pages you visit."
   ]
  },
  {
   "cell_type": "markdown",
   "id": "acb1ecfe",
   "metadata": {},
   "source": [
    "## Basic Structure of an HTML Page\n",
    "Every HTML page starts with a `<!DOCTYPE html>` declaration, defining it as an HTML5 document. The `<html>` element wraps the entire content, with `<head>` containing meta-information and `<body>` containing the content visible on the page."
   ]
  },
  {
   "cell_type": "code",
   "execution_count": null,
   "id": "dbc255c8",
   "metadata": {},
   "outputs": [],
   "source": [
    "\n",
    "from IPython.display import HTML\n",
    "HTML('''\n",
    "<!DOCTYPE html>\n",
    "<html>\n",
    "<head>\n",
    "    <title>Page Title</title>\n",
    "</head>\n",
    "<body>\n",
    "    <h1>My First Heading</h1>\n",
    "    <p>My first paragraph.</p>\n",
    "</body>\n",
    "</html>\n",
    "''')\n"
   ]
  },
  {
   "cell_type": "markdown",
   "id": "95954dcb",
   "metadata": {},
   "source": [
    "## Detailed Tag Explanations"
   ]
  },
  {
   "cell_type": "markdown",
   "id": "c6404cac",
   "metadata": {},
   "source": [
    "### The `<h1>` to `<h6>` Tags\n",
    "These tags define headings. `<h1>` represents the most important heading, while `<h6>` represents the least important."
   ]
  },
  {
   "cell_type": "markdown",
   "id": "b926c3fb",
   "metadata": {},
   "source": [
    "### The `<p>` Tag\n",
    "This tag defines a paragraph. Text within a `<p>` element is displayed in a block format, with space above and below it."
   ]
  },
  {
   "cell_type": "markdown",
   "id": "d31a28dd",
   "metadata": {},
   "source": [
    "### The `<a>` Tag\n",
    "An anchor tag defines a hyperlink, which is used to link from one page to another. The most important attribute of the `<a>` element is the `href` attribute, which indicates the link's destination."
   ]
  },
  {
   "cell_type": "markdown",
   "id": "823ffc94",
   "metadata": {},
   "source": [
    "### The `<img>` Tag\n",
    "This tag is used to embed images in an HTML page. It is an empty tag (meaning it does not need a closing tag), and it requires a `src` attribute to specify the image's source URL."
   ]
  },
  {
   "cell_type": "markdown",
   "id": "f3b80a92",
   "metadata": {},
   "source": [
    "### The `<ul>`, `<ol>`, and `<li>` Tags\n",
    "`<ul>` creates an unordered list, `<ol>` creates an ordered list, and `<li>` is used for each list item. The difference between unordered and ordered lists is the list item markers: bullets for `<ul>` and numbers for `<ol>`."
   ]
  },
  {
   "cell_type": "markdown",
   "id": "6fcf0139",
   "metadata": {},
   "source": [
    "## Stretch Goal Example: A Chat Box\n",
    "Let's create a simple chat box interface with an input area and a submit button. This example will stretch your understanding of forms and inputs in HTML."
   ]
  },
  {
   "cell_type": "code",
   "execution_count": null,
   "id": "0706937f",
   "metadata": {},
   "outputs": [],
   "source": [
    "\n",
    "from IPython.display import HTML\n",
    "HTML('''\n",
    "<!DOCTYPE html>\n",
    "<html>\n",
    "<head>\n",
    "    <title>Chat Box Example</title>\n",
    "</head>\n",
    "<body>\n",
    "    <h2>Chat Box</h2>\n",
    "    <div id=\"chatBox\" style=\"border:1px solid #ccc; padding:10px; width:300px; height:150px; overflow:auto;\">\n",
    "        <p>Hello, how can I help you?</p>\n",
    "    </div>\n",
    "    <input type=\"text\" id=\"chatInput\" style=\"width:240px;\" placeholder=\"Type a message...\">\n",
    "    <button onclick=\"sendMessage()\">Send</button>\n",
    "    <script>\n",
    "        function sendMessage() {\n",
    "            var input = document.getElementById(\"chatInput\").value;\n",
    "            document.getElementById(\"chatBox\").innerHTML += \"<p>\" + input + \"</p>\";\n",
    "            document.getElementById(\"chatInput\").value = \"\"; // Clear input field\n",
    "        }\n",
    "    </script>\n",
    "</body>\n",
    "</html>\n",
    "''')\n"
   ]
  }
 ],
 "metadata": {},
 "nbformat": 4,
 "nbformat_minor": 5
}
