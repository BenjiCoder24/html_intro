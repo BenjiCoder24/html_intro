{
 "cells": [
  {
   "cell_type": "markdown",
   "id": "88c40103",
   "metadata": {},
   "source": [
    "# HTML Tutorial for Beginners"
   ]
  },
  {
   "cell_type": "markdown",
   "id": "477c3302",
   "metadata": {},
   "source": [
    "## Introduction\n",
    "This tutorial will introduce you to the basics of HTML, the standard markup language for creating web pages."
   ]
  },
  {
   "cell_type": "markdown",
   "id": "656c5151",
   "metadata": {},
   "source": [
    "## What is HTML?\n",
    "HTML stands for Hyper Text Markup Language. It is the standard markup language for creating web pages and web applications."
   ]
  },
  {
   "cell_type": "markdown",
   "id": "5e706372",
   "metadata": {},
   "source": [
    "## Basic Structure of an HTML Page"
   ]
  },
  {
   "cell_type": "code",
   "execution_count": null,
   "id": "d5e52eac",
   "metadata": {},
   "outputs": [],
   "source": [
    "<!DOCTYPE html>\n",
    "<html>\n",
    "<head>\n",
    "    <title>Page Title</title>\n",
    "</head>\n",
    "<body>\n",
    "    <h1>My First Heading</h1>\n",
    "    <p>My first paragraph.</p>\n",
    "</body>\n",
    "</html>"
   ]
  },
  {
   "cell_type": "markdown",
   "id": "7b31d38e",
   "metadata": {},
   "source": [
    "## Headings\n",
    "HTML headings are defined with the `<h1>` to `<h6>` tags."
   ]
  },
  {
   "cell_type": "code",
   "execution_count": null,
   "id": "5060795a",
   "metadata": {},
   "outputs": [],
   "source": [
    "<h1>This is heading 1</h1>\n",
    "<h2>This is heading 2</h2>\n",
    "<h3>This is heading 3</h3>"
   ]
  },
  {
   "cell_type": "markdown",
   "id": "83944034",
   "metadata": {},
   "source": [
    "## Paragraphs\n",
    "HTML paragraphs are defined with the `<p>` tag."
   ]
  },
  {
   "cell_type": "code",
   "execution_count": null,
   "id": "325664aa",
   "metadata": {},
   "outputs": [],
   "source": [
    "<p>This is a paragraph.</p>\n",
    "<p>This is another paragraph.</p>"
   ]
  },
  {
   "cell_type": "markdown",
   "id": "580b5a27",
   "metadata": {},
   "source": [
    "## Links\n",
    "HTML links are defined with the `<a>` tag."
   ]
  },
  {
   "cell_type": "code",
   "execution_count": null,
   "id": "c01cdd72",
   "metadata": {},
   "outputs": [],
   "source": [
    "<a href='https://www.example.com'>This is a link</a>"
   ]
  },
  {
   "cell_type": "markdown",
   "id": "a9c552fa",
   "metadata": {},
   "source": [
    "## Images\n",
    "HTML images are defined with the `<img>` tag."
   ]
  },
  {
   "cell_type": "code",
   "execution_count": null,
   "id": "face349e",
   "metadata": {},
   "outputs": [],
   "source": [
    "<img src='url' alt='Alternate text' width='100' height='100'>"
   ]
  },
  {
   "cell_type": "markdown",
   "id": "f01eff6f",
   "metadata": {},
   "source": [
    "## Lists\n",
    "HTML supports ordered and unordered lists."
   ]
  },
  {
   "cell_type": "code",
   "execution_count": null,
   "id": "bfa5c08a",
   "metadata": {},
   "outputs": [],
   "source": [
    "<ul>\n",
    "    <li>Coffee</li>\n",
    "    <li>Tea</li>\n",
    "    <li>Milk</li>\n",
    "</ul>\n",
    "<ol>\n",
    "    <li>First item</li>\n",
    "    <li>Second item</li>\n",
    "</ol>"
   ]
  },
  {
   "cell_type": "markdown",
   "id": "30df799e",
   "metadata": {},
   "source": [
    "## Putting It All Together\n",
    "Let's create a simple webpage using what we've learned."
   ]
  },
  {
   "cell_type": "code",
   "execution_count": null,
   "id": "a3db354a",
   "metadata": {},
   "outputs": [],
   "source": [
    "<!DOCTYPE html>\n",
    "<html>\n",
    "<head>\n",
    "    <title>My Web Page</title>\n",
    "</head>\n",
    "<body>\n",
    "    <h1>Welcome to My Web Page</h1>\n",
    "    <p>This is a paragraph on my web page.</p>\n",
    "    <a href='https://www.example.com'>Visit Example</a>\n",
    "    <h2>My Favorite Foods</h2>\n",
    "    <ul>\n",
    "        <li>Pizza</li>\n",
    "        <li>Sushi</li>\n",
    "        <li>Chocolate</li>\n",
    "    </ul>\n",
    "</body>\n",
    "</html>"
   ]
  }
 ],
 "metadata": {},
 "nbformat": 4,
 "nbformat_minor": 5
}
