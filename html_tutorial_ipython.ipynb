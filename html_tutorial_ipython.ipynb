{
 "cells": [
  {
   "cell_type": "markdown",
   "id": "ce88b7fb",
   "metadata": {},
   "source": [
    "# HTML Tutorial for Beginners"
   ]
  },
  {
   "cell_type": "markdown",
   "id": "84b6e391",
   "metadata": {},
   "source": [
    "## Introduction\n",
    "This tutorial will introduce you to the basics of HTML, the standard markup language for creating web pages."
   ]
  },
  {
   "cell_type": "markdown",
   "id": "cc46796c",
   "metadata": {},
   "source": [
    "## What is HTML?\n",
    "HTML stands for Hyper Text Markup Language. It is the standard markup language for creating web pages and web applications."
   ]
  },
  {
   "cell_type": "markdown",
   "id": "43a77ab9",
   "metadata": {},
   "source": [
    "## Basic Structure of an HTML Page"
   ]
  },
  {
   "cell_type": "code",
   "execution_count": null,
   "id": "d1137033",
   "metadata": {},
   "outputs": [],
   "source": [
    "\n",
    "from IPython.display import HTML\n",
    "HTML('''\n",
    "<!DOCTYPE html>\n",
    "<html>\n",
    "<head>\n",
    "    <title>Page Title</title>\n",
    "</head>\n",
    "<body>\n",
    "    <h1>My First Heading</h1>\n",
    "    <p>My first paragraph.</p>\n",
    "</body>\n",
    "</html>\n",
    "''')\n"
   ]
  },
  {
   "cell_type": "markdown",
   "id": "b98022af",
   "metadata": {},
   "source": [
    "## Headings\n",
    "HTML headings are defined with the `<h1>` to `<h6>` tags."
   ]
  },
  {
   "cell_type": "code",
   "execution_count": null,
   "id": "b5da41ae",
   "metadata": {},
   "outputs": [],
   "source": [
    "\n",
    "from IPython.display import HTML\n",
    "HTML('''\n",
    "<h1>This is heading 1</h1>\n",
    "<h2>This is heading 2</h2>\n",
    "<h3>This is heading 3</h3>\n",
    "''')\n"
   ]
  },
  {
   "cell_type": "markdown",
   "id": "2b6c382a",
   "metadata": {},
   "source": [
    "## Paragraphs\n",
    "HTML paragraphs are defined with the `<p>` tag."
   ]
  },
  {
   "cell_type": "code",
   "execution_count": null,
   "id": "a442878f",
   "metadata": {},
   "outputs": [],
   "source": [
    "\n",
    "from IPython.display import HTML\n",
    "HTML('''\n",
    "<p>This is a paragraph.</p>\n",
    "<p>This is another paragraph.</p>\n",
    "''')\n"
   ]
  },
  {
   "cell_type": "markdown",
   "id": "19185f1c",
   "metadata": {},
   "source": [
    "## Links\n",
    "HTML links are defined with the `<a>` tag."
   ]
  },
  {
   "cell_type": "code",
   "execution_count": null,
   "id": "33f1363a",
   "metadata": {},
   "outputs": [],
   "source": [
    "\n",
    "from IPython.display import HTML\n",
    "HTML('''\n",
    "<a href='https://www.example.com'>This is a link</a>\n",
    "''')\n"
   ]
  },
  {
   "cell_type": "markdown",
   "id": "eaad93dc",
   "metadata": {},
   "source": [
    "## Images\n",
    "HTML images are defined with the `<img>` tag."
   ]
  },
  {
   "cell_type": "code",
   "execution_count": null,
   "id": "426da172",
   "metadata": {},
   "outputs": [],
   "source": [
    "\n",
    "from IPython.display import HTML\n",
    "HTML('''\n",
    "<img src='url' alt='Alternate text' width='100' height='100'>\n",
    "''')\n"
   ]
  },
  {
   "cell_type": "markdown",
   "id": "59c69232",
   "metadata": {},
   "source": [
    "## Lists\n",
    "HTML supports ordered and unordered lists."
   ]
  },
  {
   "cell_type": "code",
   "execution_count": null,
   "id": "2f14783a",
   "metadata": {},
   "outputs": [],
   "source": [
    "\n",
    "from IPython.display import HTML\n",
    "HTML('''\n",
    "<ul>\n",
    "    <li>Coffee</li>\n",
    "    <li>Tea</li>\n",
    "    <li>Milk</li>\n",
    "</ul>\n",
    "<ol>\n",
    "    <li>First item</li>\n",
    "    <li>Second item</li>\n",
    "</ol>\n",
    "''')\n"
   ]
  },
  {
   "cell_type": "markdown",
   "id": "cca242bf",
   "metadata": {},
   "source": [
    "## Putting It All Together\n",
    "Let's create a simple webpage using what we've learned."
   ]
  },
  {
   "cell_type": "code",
   "execution_count": null,
   "id": "c0196a8f",
   "metadata": {},
   "outputs": [],
   "source": [
    "\n",
    "from IPython.display import HTML\n",
    "HTML('''\n",
    "<!DOCTYPE html>\n",
    "<html>\n",
    "<head>\n",
    "    <title>My Web Page</title>\n",
    "</head>\n",
    "<body>\n",
    "    <h1>Welcome to My Web Page</h1>\n",
    "    <p>This is a paragraph on my web page.</p>\n",
    "    <a href='https://www.example.com'>Visit Example</a>\n",
    "    <h2>My Favorite Foods</h2>\n",
    "    <ul>\n",
    "        <li>Pizza</li>\n",
    "        <li>Sushi</li>\n",
    "        <li>Chocolate</li>\n",
    "    </ul>\n",
    "</body>\n",
    "</html>\n",
    "''')\n"
   ]
  }
 ],
 "metadata": {},
 "nbformat": 4,
 "nbformat_minor": 5
}
